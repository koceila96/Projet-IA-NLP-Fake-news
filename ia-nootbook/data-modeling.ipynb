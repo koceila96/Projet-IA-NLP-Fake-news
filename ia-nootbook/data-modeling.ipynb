{
 "cells": [
  {
   "cell_type": "code",
   "execution_count": 1,
   "metadata": {},
   "outputs": [],
   "source": [
    "import pandas as pd"
   ]
  },
  {
   "cell_type": "code",
   "execution_count": null,
   "metadata": {},
   "outputs": [],
   "source": [
    "import_folder = '/Users/soufianebelhabibe/Desktop/IA-project/data/data_prep/data_embed'\n",
    "import_folder1='/Users/soufianebelhabibe/Desktop/IA-project/data/data_prep/'\n",
    "\n",
    "X_train = pd.read_csv(import_folder + 'xv_train.csv')\n",
    "X_test = pd.read_csv(import_folder + 'xv_test.csv')\n",
    "y_train = pd.read_csv(import_folder1 + 'y_train.csv')\n",
    "y_test = pd.read_csv(import_folder1 + 'y_test.csv')"
   ]
  }
 ],
 "metadata": {
  "kernelspec": {
   "display_name": ".venv",
   "language": "python",
   "name": "python3"
  },
  "language_info": {
   "codemirror_mode": {
    "name": "ipython",
    "version": 3
   },
   "file_extension": ".py",
   "mimetype": "text/x-python",
   "name": "python",
   "nbconvert_exporter": "python",
   "pygments_lexer": "ipython3",
   "version": "3.11.0"
  }
 },
 "nbformat": 4,
 "nbformat_minor": 2
}
