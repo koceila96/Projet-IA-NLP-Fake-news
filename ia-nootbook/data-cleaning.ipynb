{
 "cells": [
  {
   "cell_type": "markdown",
   "metadata": {},
   "source": [
    "`This nootbook has been created by IA-team\n",
    "`"
   ]
  },
  {
   "cell_type": "code",
   "execution_count": 1,
   "metadata": {},
   "outputs": [
    {
     "name": "stderr",
     "output_type": "stream",
     "text": [
      "[nltk_data] Error loading words: <urlopen error [SSL:\n",
      "[nltk_data]     CERTIFICATE_VERIFY_FAILED] certificate verify failed:\n",
      "[nltk_data]     unable to get local issuer certificate (_ssl.c:992)>\n",
      "[nltk_data] Error loading stopwords: <urlopen error [SSL:\n",
      "[nltk_data]     CERTIFICATE_VERIFY_FAILED] certificate verify failed:\n",
      "[nltk_data]     unable to get local issuer certificate (_ssl.c:992)>\n"
     ]
    }
   ],
   "source": [
    "\n",
    "import pandas as pd\n",
    "import seaborn as sns\n",
    "import numpy as np\n",
    "import matplotlib.pyplot as plt\n",
    "from sklearn.model_selection import train_test_split\n",
    "from sklearn.metrics import classification_report\n",
    "from sklearn.neighbors import KNeighborsClassifier\n",
    "from sklearn.metrics import accuracy_score, precision_score, recall_score, f1_score\n",
    "from data_preparation.embedding.general_embedding import wordopt, manual_testing, english_only, remove_emoji, remp_abreviation,remp_emoticon,remove_single_lettre\n",
    "import pickle\n",
    "import emoji\n",
    "from nltk.corpus import words, stopwords\n",
    "from nltk.stem import WordNetLemmatizer\n",
    "from data_preparation.embedding import general_embedding\n",
    "from sklearn.ensemble import GradientBoostingClassifier, VotingClassifier, RandomForestClassifier"
   ]
  },
  {
   "cell_type": "code",
   "execution_count": 2,
   "metadata": {},
   "outputs": [
    {
     "name": "stderr",
     "output_type": "stream",
     "text": [
      "[nltk_data] Downloading package stopwords to\n",
      "[nltk_data]     /Users/soufianebelhabibe/nltk_data...\n",
      "[nltk_data]   Package stopwords is already up-to-date!\n",
      "[nltk_data] Downloading package wordnet to\n",
      "[nltk_data]     /Users/soufianebelhabibe/nltk_data...\n",
      "[nltk_data]   Package wordnet is already up-to-date!\n"
     ]
    },
    {
     "data": {
      "text/plain": [
       "True"
      ]
     },
     "execution_count": 2,
     "metadata": {},
     "output_type": "execute_result"
    }
   ],
   "source": [
    "import nltk\n",
    "import ssl\n",
    "ssl._create_default_https_context = ssl._create_unverified_context\n",
    "nltk.download('stopwords')\n",
    "nltk.download('wordnet') "
   ]
  },
  {
   "cell_type": "code",
   "execution_count": 3,
   "metadata": {},
   "outputs": [],
   "source": [
    "\n",
    "english_words = set(words.words())\n",
    "stopwords = set(stopwords.words('english'))\n",
    "lemmatizer = WordNetLemmatizer() "
   ]
  },
  {
   "cell_type": "code",
   "execution_count": 4,
   "metadata": {},
   "outputs": [],
   "source": [
    "target = \"class\"\n",
    "model_name = \"data-cleaning\"\n",
    "project_name = \"fake-news detection\""
   ]
  },
  {
   "cell_type": "code",
   "execution_count": 5,
   "metadata": {},
   "outputs": [],
   "source": [
    "pd.set_option('display.max_colwidth', None)"
   ]
  },
  {
   "cell_type": "code",
   "execution_count": 6,
   "metadata": {},
   "outputs": [],
   "source": [
    "df_fake = pd.read_csv(\"/Users/soufianebelhabibe/Desktop/IA-project/data/Fake.csv\")\n",
    "df_true = pd.read_csv(\"/Users/soufianebelhabibe/Desktop/IA-project/data/True.csv\")"
   ]
  },
  {
   "cell_type": "code",
   "execution_count": 7,
   "metadata": {},
   "outputs": [],
   "source": [
    "#df_fake.head(5)"
   ]
  },
  {
   "cell_type": "code",
   "execution_count": 8,
   "metadata": {},
   "outputs": [],
   "source": [
    "#df_true.head(5)"
   ]
  },
  {
   "cell_type": "code",
   "execution_count": 9,
   "metadata": {},
   "outputs": [
    {
     "data": {
      "text/plain": [
       "((23481, 4), (21417, 4))"
      ]
     },
     "execution_count": 9,
     "metadata": {},
     "output_type": "execute_result"
    }
   ],
   "source": [
    "df_fake.shape, df_true.shape"
   ]
  },
  {
   "cell_type": "code",
   "execution_count": 10,
   "metadata": {},
   "outputs": [
    {
     "data": {
      "text/html": [
       "<div>\n",
       "<style scoped>\n",
       "    .dataframe tbody tr th:only-of-type {\n",
       "        vertical-align: middle;\n",
       "    }\n",
       "\n",
       "    .dataframe tbody tr th {\n",
       "        vertical-align: top;\n",
       "    }\n",
       "\n",
       "    .dataframe thead th {\n",
       "        text-align: right;\n",
       "    }\n",
       "</style>\n",
       "<table border=\"1\" class=\"dataframe\">\n",
       "  <thead>\n",
       "    <tr style=\"text-align: right;\">\n",
       "      <th></th>\n",
       "      <th>title</th>\n",
       "      <th>text</th>\n",
       "      <th>subject</th>\n",
       "      <th>date</th>\n",
       "    </tr>\n",
       "  </thead>\n",
       "  <tbody>\n",
       "    <tr>\n",
       "      <th>count</th>\n",
       "      <td>23481</td>\n",
       "      <td>23481</td>\n",
       "      <td>23481</td>\n",
       "      <td>23481</td>\n",
       "    </tr>\n",
       "    <tr>\n",
       "      <th>unique</th>\n",
       "      <td>17903</td>\n",
       "      <td>17455</td>\n",
       "      <td>6</td>\n",
       "      <td>1681</td>\n",
       "    </tr>\n",
       "    <tr>\n",
       "      <th>top</th>\n",
       "      <td>MEDIA IGNORES Time That Bill Clinton FIRED His FBI Director On Day Before Vince Foster Was Found Dead</td>\n",
       "      <td></td>\n",
       "      <td>News</td>\n",
       "      <td>May 10, 2017</td>\n",
       "    </tr>\n",
       "    <tr>\n",
       "      <th>freq</th>\n",
       "      <td>6</td>\n",
       "      <td>626</td>\n",
       "      <td>9050</td>\n",
       "      <td>46</td>\n",
       "    </tr>\n",
       "  </tbody>\n",
       "</table>\n",
       "</div>"
      ],
      "text/plain": [
       "                                                                                                        title  \\\n",
       "count                                                                                                   23481   \n",
       "unique                                                                                                  17903   \n",
       "top     MEDIA IGNORES Time That Bill Clinton FIRED His FBI Director On Day Before Vince Foster Was Found Dead   \n",
       "freq                                                                                                        6   \n",
       "\n",
       "         text subject          date  \n",
       "count   23481   23481         23481  \n",
       "unique  17455       6          1681  \n",
       "top              News  May 10, 2017  \n",
       "freq      626    9050            46  "
      ]
     },
     "execution_count": 10,
     "metadata": {},
     "output_type": "execute_result"
    }
   ],
   "source": [
    "df_fake.describe()"
   ]
  },
  {
   "cell_type": "markdown",
   "metadata": {},
   "source": [
    "## data-preparation"
   ]
  },
  {
   "cell_type": "code",
   "execution_count": 11,
   "metadata": {},
   "outputs": [],
   "source": [
    "# Insert the target class, for fake news class = 0 and for true mews class = 1 \n",
    "df_fake[\"class\"] = 0\n",
    "df_true[\"class\"] = 1"
   ]
  },
  {
   "cell_type": "code",
   "execution_count": 12,
   "metadata": {},
   "outputs": [
    {
     "data": {
      "text/plain": [
       "(44898, 5)"
      ]
     },
     "execution_count": 12,
     "metadata": {},
     "output_type": "execute_result"
    }
   ],
   "source": [
    "df_all = pd.concat([df_fake, df_true], axis= 0)\n",
    "df_all.shape"
   ]
  },
  {
   "cell_type": "code",
   "execution_count": 13,
   "metadata": {},
   "outputs": [
    {
     "data": {
      "text/plain": [
       "<Axes: xlabel='count', ylabel='class'>"
      ]
     },
     "execution_count": 13,
     "metadata": {},
     "output_type": "execute_result"
    },
    {
     "data": {
      "image/png": "[encoded data removed]",
      "text/plain": [
       "<Figure size 640x480 with 1 Axes>"
      ]
     },
     "metadata": {},
     "output_type": "display_data"
    }
   ],
   "source": [
    "sns.countplot(y='class', data=df_all)"
   ]
  },
  {
   "cell_type": "code",
   "execution_count": 14,
   "metadata": {},
   "outputs": [
    {
     "data": {
      "text/plain": [
       "<Axes: ylabel='count'>"
      ]
     },
     "execution_count": 14,
     "metadata": {},
     "output_type": "execute_result"
    },
    {
     "data": {
      "image/png": "[encoded data removed]",
      "text/plain": [
       "<Figure size 640x480 with 1 Axes>"
      ]
     },
     "metadata": {},
     "output_type": "display_data"
    }
   ],
   "source": [
    "target = \"class\"\n",
    "df_all[\"class\"].value_counts().plot(kind=\"pie\", autopct='%1.0f%%')"
   ]
  },
  {
   "cell_type": "code",
   "execution_count": 15,
   "metadata": {},
   "outputs": [
    {
     "data": {
      "text/plain": [
       "(Index(['title', 'text', 'subject', 'date', 'class'], dtype='object'),\n",
       "                                                                                         title  \\\n",
       " 0              Donald Trump Sends Out Embarrassing New Year’s Eve Message; This is Disturbing   \n",
       " 1                        Drunk Bragging Trump Staffer Started Russian Collusion Investigation   \n",
       " 2   Sheriff David Clarke Becomes An Internet Joke For Threatening To Poke People ‘In The Eye’   \n",
       " 3               Trump Is So Obsessed He Even Has Obama’s Name Coded Into His Website (IMAGES)   \n",
       " 4                       Pope Francis Just Called Out Donald Trump During His Christmas Speech   \n",
       " \n",
       "                                                                                                                                                                                                                                                                                                                                                                                                                                                                                                                                                                                                                                                                                                                                                                                                                                                                                                                                                                                                                                                                                                                                                                                                                                                                                                                                                                                                                                                                                                                                                                                                                                                                                                                                                                                                                                                                                                                                                                                                                                                                                                                                                                                                                                                                                                                                                                                                                                                                                                                                                                                                                                                                                                                                                                                                                                                                                                                                                                                                                                                                                                                                                                                                                                                                                                                                                                                                                                                                                                                                                                                                                                                                                                                                             text  \\\n",
       " 0                                                                                                                                                                                                                                                                                                                                                                                                                                                                                                                                                                                                                                                                                                                                  Donald Trump just couldn t wish all Americans a Happy New Year and leave it at that. Instead, he had to give a shout out to his enemies, haters and  the very dishonest fake news media.  The former reality show star had just one job to do and he couldn t do it. As our Country rapidly grows stronger and smarter, I want to wish all of my friends, supporters, enemies, haters, and even the very dishonest Fake News Media, a Happy and Healthy New Year,  President Angry Pants tweeted.  2018 will be a great year for America! As our Country rapidly grows stronger and smarter, I want to wish all of my friends, supporters, enemies, haters, and even the very dishonest Fake News Media, a Happy and Healthy New Year. 2018 will be a great year for America!  Donald J. Trump (@realDonaldTrump) December 31, 2017Trump s tweet went down about as welll as you d expect.What kind of president sends a New Year s greeting like this despicable, petty, infantile gibberish? Only Trump! His lack of decency won t even allow him to rise above the gutter long enough to wish the American citizens a happy new year!  Bishop Talbert Swan (@TalbertSwan) December 31, 2017no one likes you  Calvin (@calvinstowell) December 31, 2017Your impeachment would make 2018 a great year for America, but I ll also accept regaining control of Congress.  Miranda Yaver (@mirandayaver) December 31, 2017Do you hear yourself talk? When you have to include that many people that hate you you have to wonder? Why do the they all hate me?  Alan Sandoval (@AlanSandoval13) December 31, 2017Who uses the word Haters in a New Years wish??  Marlene (@marlene399) December 31, 2017You can t just say happy new year?  Koren pollitt (@Korencarpenter) December 31, 2017Here s Trump s New Year s Eve tweet from 2016.Happy New Year to all, including to my many enemies and those who have fought me and lost so badly they just don t know what to do. Love!  Donald J. Trump (@realDonaldTrump) December 31, 2016This is nothing new for Trump. He s been doing this for years.Trump has directed messages to his  enemies  and  haters  for New Year s, Easter, Thanksgiving, and the anniversary of 9/11. pic.twitter.com/4FPAe2KypA  Daniel Dale (@ddale8) December 31, 2017Trump s holiday tweets are clearly not presidential.How long did he work at Hallmark before becoming President?  Steven Goodine (@SGoodine) December 31, 2017He s always been like this . . . the only difference is that in the last few years, his filter has been breaking down.  Roy Schulze (@thbthttt) December 31, 2017Who, apart from a teenager uses the term haters?  Wendy (@WendyWhistles) December 31, 2017he s a fucking 5 year old  Who Knows (@rainyday80) December 31, 2017So, to all the people who voted for this a hole thinking he would change once he got into power, you were wrong! 70-year-old men don t change and now he s a year older.Photo by Andrew Burton/Getty Images.   \n",
       " 1                                                                                                                                                                                                                                                                                                                                                                                                                                                                                                                                                                                                                                                                                                                                                                                                                                                                                                                                                                                                                                                                                                                                                                                                                                                                                                                                                                                                                                                                                                                                                                                                                                                                                                                                                                     House Intelligence Committee Chairman Devin Nunes is going to have a bad day. He s been under the assumption, like many of us, that the Christopher Steele-dossier was what prompted the Russia investigation so he s been lashing out at the Department of Justice and the FBI in order to protect Trump. As it happens, the dossier is not what started the investigation, according to documents obtained by the New York Times.Former Trump campaign adviser George Papadopoulos was drunk in a wine bar when he revealed knowledge of Russian opposition research on Hillary Clinton.On top of that, Papadopoulos wasn t just a covfefe boy for Trump, as his administration has alleged. He had a much larger role, but none so damning as being a drunken fool in a wine bar. Coffee boys  don t help to arrange a New York meeting between Trump and President Abdel Fattah el-Sisi of Egypt two months before the election. It was known before that the former aide set up meetings with world leaders for Trump, but team Trump ran with him being merely a coffee boy.In May 2016, Papadopoulos revealed to Australian diplomat Alexander Downer that Russian officials were shopping around possible dirt on then-Democratic presidential nominee Hillary Clinton. Exactly how much Mr. Papadopoulos said that night at the Kensington Wine Rooms with the Australian, Alexander Downer, is unclear,  the report states.  But two months later, when leaked Democratic emails began appearing online, Australian officials passed the information about Mr. Papadopoulos to their American counterparts, according to four current and former American and foreign officials with direct knowledge of the Australians  role. Papadopoulos pleaded guilty to lying to the F.B.I. and is now a cooperating witness with Special Counsel Robert Mueller s team.This isn t a presidency. It s a badly scripted reality TV show.Photo by Win McNamee/Getty Images.   \n",
       " 2  On Friday, it was revealed that former Milwaukee Sheriff David Clarke, who was being considered for Homeland Security Secretary in Donald Trump s administration, has an email scandal of his own.In January, there was a brief run-in on a plane between Clarke and fellow passenger Dan Black, who he later had detained by the police for no reason whatsoever, except that maybe his feelings were hurt. Clarke messaged the police to stop Black after he deplaned, and now, a search warrant has been executed by the FBI to see the exchanges.Clarke is calling it fake news even though copies of the search warrant are on the Internet. I am UNINTIMIDATED by lib media attempts to smear and discredit me with their FAKE NEWS reports designed to silence me,  the former sheriff tweeted.  I will continue to poke them in the eye with a sharp stick and bitch slap these scum bags til they get it. I have been attacked by better people than them #MAGA I am UNINTIMIDATED by lib media attempts to smear and discredit me with their FAKE NEWS reports designed to silence me. I will continue to poke them in the eye with a sharp stick and bitch slap these scum bags til they get it. I have been attacked by better people than them #MAGA pic.twitter.com/XtZW5PdU2b  David A. Clarke, Jr. (@SheriffClarke) December 30, 2017He didn t stop there.BREAKING NEWS! When LYING LIB MEDIA makes up FAKE NEWS to smear me, the ANTIDOTE is go right at them. Punch them in the nose & MAKE THEM TASTE THEIR OWN BLOOD. Nothing gets a bully like LYING LIB MEDIA S attention better than to give them a taste of their own blood #neverbackdown pic.twitter.com/T2NY2psHCR  David A. Clarke, Jr. (@SheriffClarke) December 30, 2017The internet called him out.This is your local newspaper and that search warrant isn t fake, and just because the chose not to file charges at the time doesn t mean they won t! Especially if you continue to lie. Months after decision not to charge Clarke, email search warrant filed https://t.co/zcbyc4Wp5b  KeithLeBlanc (@KeithLeBlanc63) December 30, 2017I just hope the rest of the Village People aren t implicated.  Kirk Ketchum (@kirkketchum) December 30, 2017Slaw, baked potatoes, or French fries? pic.twitter.com/fWfXsZupxy  ALT- Immigration   (@ALT_uscis) December 30, 2017pic.twitter.com/ymsOBLjfxU  Pendulum Swinger (@PendulumSwngr) December 30, 2017you called your police friends to stand up for you when someone made fun of your hat  Chris Jackson (@ChrisCJackson) December 30, 2017Is it me, with this masterful pshop of your hat, which I seem to never tire of. I think it s the steely resolve in your one visible eye pic.twitter.com/dWr5k8ZEZV  Chris Mohney (@chrismohney) December 30, 2017Are you indicating with your fingers how many people died in your jail? I think you re a few fingers short, dipshit  Ike Barinholtz (@ikebarinholtz) December 30, 2017ROFL. Internet tough guy with fake flair. pic.twitter.com/ulCFddhkdy  KellMeCrazy (@Kel_MoonFace) December 30, 2017You re so edgy, buddy.  Mrs. SMH (@MRSSMH2) December 30, 2017Is his break over at Applebees?  Aaron (@feltrrr2) December 30, 2017Are you trying to earn your  still relevant  badge?  CircusRebel (@CircusDrew) December 30, 2017make sure to hydrate, drink lots of water. It s rumored that prisoners can be denied water by prison officials.  Robert Klinc (@RobertKlinc1) December 30, 2017Terrill Thomas, the 38-year-old black man who died of thirst in Clarke s Milwaukee County Jail cell this April, was a victim of homicide. We just thought we should point that out. It can t be repeated enough.Photo by Spencer Platt/Getty Images.   \n",
       " 3                                                                                                                                                                                                                                                                                                                                                                                                                                                                                                                                                                                                                                                                                                                                                                                                                                                         On Christmas day, Donald Trump announced that he would  be back to work  the following day, but he is golfing for the fourth day in a row. The former reality show star blasted former President Barack Obama for playing golf and now Trump is on track to outpace the number of golf games his predecessor played.Updated my tracker of Trump s appearances at Trump properties.71 rounds of golf including today s. At this pace, he ll pass Obama s first-term total by July 24 next year. https://t.co/Fg7VacxRtJ pic.twitter.com/5gEMcjQTbH  Philip Bump (@pbump) December 29, 2017 That makes what a Washington Post reporter discovered on Trump s website really weird, but everything about this administration is bizarre AF. The coding contained a reference to Obama and golf:  Unlike Obama, we are working to fix the problem   and not on the golf course.  However, the coding wasn t done correctly.The website of Donald Trump, who has spent several days in a row at the golf course, is coded to serve up the following message in the event of an internal server error: https://t.co/zrWpyMXRcz pic.twitter.com/wiQSQNNzw0  Christopher Ingraham (@_cingraham) December 28, 2017That snippet of code appears to be on all https://t.co/dkhw0AlHB4 pages, which the footer says is paid for by the RNC? pic.twitter.com/oaZDT126B3  Christopher Ingraham (@_cingraham) December 28, 2017It s also all over https://t.co/ayBlGmk65Z. As others have noted in this thread, this is weird code and it s not clear it would ever actually display, but who knows.  Christopher Ingraham (@_cingraham) December 28, 2017After the coding was called out, the reference to Obama was deleted.UPDATE: The golf error message has been removed from the Trump and GOP websites. They also fixed the javascript  =  vs  ==  problem. Still not clear when these messages would actually display, since the actual 404 (and presumably 500) page displays a different message pic.twitter.com/Z7dmyQ5smy  Christopher Ingraham (@_cingraham) December 29, 2017That suggests someone at either RNC or the Trump admin is sensitive enough to Trump s golf problem to make this issue go away quickly once people noticed. You have no idea how much I d love to see the email exchange that led us here.  Christopher Ingraham (@_cingraham) December 29, 2017 The code was f-cked up.The best part about this is that they are using the  =  (assignment) operator which means that bit of code will never get run. If you look a few lines up  errorCode  will always be  404          (@tw1trsux) December 28, 2017trump s coders can t code. Nobody is surprised.  Tim Peterson (@timrpeterson) December 28, 2017Donald Trump is obsessed with Obama that his name was even in the coding of his website while he played golf again.Photo by Joe Raedle/Getty Images.   \n",
       " 4                                                                                                                                                                                                                                                                                                                                                                                                                                                                                                                                                                                                                                                                                                                                                                                                                                                                                                                                                                                                                                                                                                                                                                                                                                                                                                     Pope Francis used his annual Christmas Day message to rebuke Donald Trump without even mentioning his name. The Pope delivered his message just days after members of the United Nations condemned Trump s move to recognize Jerusalem as the capital of Israel. The Pontiff prayed on Monday for the  peaceful coexistence of two states within mutually agreed and internationally recognized borders. We see Jesus in the children of the Middle East who continue to suffer because of growing tensions between Israelis and Palestinians,  Francis said.  On this festive day, let us ask the Lord for peace for Jerusalem and for all the Holy Land. Let us pray that the will to resume dialogue may prevail between the parties and that a negotiated solution can finally be reached. The Pope went on to plead for acceptance of refugees who have been forced from their homes, and that is an issue Trump continues to fight against. Francis used Jesus for which there was  no place in the inn  as an analogy. Today, as the winds of war are blowing in our world and an outdated model of development continues to produce human, societal and environmental decline, Christmas invites us to focus on the sign of the Child and to recognize him in the faces of little children, especially those for whom, like Jesus,  there is no place in the inn,  he said. Jesus knows well the pain of not being welcomed and how hard it is not to have a place to lay one s head,  he added.  May our hearts not be closed as they were in the homes of Bethlehem. The Pope said that Mary and Joseph were immigrants who struggled to find a safe place to stay in Bethlehem. They had to leave their people, their home, and their land,  Francis said.  This was no comfortable or easy journey for a young couple about to have a child.   At heart, they were full of hope and expectation because of the child about to be born; yet their steps were weighed down by the uncertainties and dangers that attend those who have to leave their home behind. So many other footsteps are hidden in the footsteps of Joseph and Mary,  Francis said Sunday. We see the tracks of entire families forced to set out in our own day. We see the tracks of millions of persons who do not choose to go away, but driven from their land, leave behind their dear ones. Amen to that.Photo by Christopher Furlong/Getty Images.   \n",
       " \n",
       "   subject               date  class  \n",
       " 0    News  December 31, 2017      0  \n",
       " 1    News  December 31, 2017      0  \n",
       " 2    News  December 30, 2017      0  \n",
       " 3    News  December 29, 2017      0  \n",
       " 4    News  December 25, 2017      0  )"
      ]
     },
     "execution_count": 15,
     "metadata": {},
     "output_type": "execute_result"
    }
   ],
   "source": [
    "df_all.columns, df_all.head(5)"
   ]
  },
  {
   "cell_type": "code",
   "execution_count": 16,
   "metadata": {},
   "outputs": [],
   "source": [
    "data = df_all.copy()"
   ]
  },
  {
   "cell_type": "code",
   "execution_count": 17,
   "metadata": {},
   "outputs": [],
   "source": [
    "data.drop([\"title\",\"subject\",\"date\"], axis=1, inplace=True)"
   ]
  },
  {
   "cell_type": "markdown",
   "metadata": {},
   "source": [
    "## Process the text "
   ]
  },
  {
   "cell_type": "markdown",
   "metadata": {},
   "source": [
    "### Try our text_cleaning function from data_preparation.embedding"
   ]
  },
  {
   "cell_type": "code",
   "execution_count": 23,
   "metadata": {},
   "outputs": [
    {
     "name": "stdout",
     "output_type": "stream",
     "text": [
      "features without clean\n",
      "@SouthwestAir @Imaginedragons @beatsmusic well timed tweet et bien pour que ça, paris a été une joyeuse ville, just boarded and will be listening on my way home!, :)\n",
      "\n",
      "features with clean\n",
      "southwestair imaginedragons beatsmusic well timed tweet et bien pour que ça paris a été une joyeuse ville just boarded and will be listening on my way home\n"
     ]
    }
   ],
   "source": [
    "## trying our function wordopt\n",
    "text = '@SouthwestAir @Imaginedragons @beatsmusic well timed tweet et bien pour que ça, paris a été une joyeuse ville, just boarded and will be listening on my way home!, :)'\n",
    "print(\"features without clean\")\n",
    "print(text)\n",
    "print()\n",
    "print(\"features with clean\")\n",
    "text = wordopt(text)\n",
    "print(text)"
   ]
  },
  {
   "cell_type": "code",
   "execution_count": 37,
   "metadata": {},
   "outputs": [
    {
     "name": "stdout",
     "output_type": "stream",
     "text": [
      "text de depart\n",
      "hello Dr banks bought a chair for\n",
      "text nettoyé\n"
     ]
    },
    {
     "ename": "NameError",
     "evalue": "name 'stop_words' is not defined",
     "output_type": "error",
     "traceback": [
      "\u001b[0;31m---------------------------------------------------------------------------\u001b[0m",
      "\u001b[0;31mNameError\u001b[0m                                 Traceback (most recent call last)",
      "Cell \u001b[0;32mIn[37], line 5\u001b[0m\n\u001b[1;32m      3\u001b[0m \u001b[38;5;28mprint\u001b[39m(text)\n\u001b[1;32m      4\u001b[0m \u001b[38;5;28mprint\u001b[39m (\u001b[38;5;124m'\u001b[39m\u001b[38;5;124mtext nettoyé\u001b[39m\u001b[38;5;124m'\u001b[39m)\n\u001b[0;32m----> 5\u001b[0m \u001b[38;5;28mprint\u001b[39m(\u001b[43mremove_stopwords\u001b[49m\u001b[43m(\u001b[49m\u001b[43mtext\u001b[49m\u001b[43m)\u001b[49m)\n",
      "File \u001b[0;32m~/Desktop/IA-project/.venv/lib/python3.11/site-packages/data_preparation/embedding/general_embedding.py:21\u001b[0m, in \u001b[0;36mremove_stopwords\u001b[0;34m(text)\u001b[0m\n\u001b[1;32m     20\u001b[0m \u001b[38;5;28;01mdef\u001b[39;00m \u001b[38;5;21mremove_stopwords\u001b[39m(text):\n\u001b[0;32m---> 21\u001b[0m     \u001b[38;5;28;01mreturn\u001b[39;00m [\u001b[38;5;124m'\u001b[39m\u001b[38;5;124m \u001b[39m\u001b[38;5;124m'\u001b[39m\u001b[38;5;241m.\u001b[39mjoin(\u001b[43m[\u001b[49m\u001b[43mword\u001b[49m\u001b[43m \u001b[49m\u001b[38;5;28;43;01mfor\u001b[39;49;00m\u001b[43m \u001b[49m\u001b[43mword\u001b[49m\u001b[43m \u001b[49m\u001b[38;5;129;43;01min\u001b[39;49;00m\u001b[43m \u001b[49m\u001b[43mtext\u001b[49m\u001b[38;5;241;43m.\u001b[39;49m\u001b[43msplit\u001b[49m\u001b[43m(\u001b[49m\u001b[43m)\u001b[49m\u001b[43m \u001b[49m\u001b[38;5;28;43;01mif\u001b[39;49;00m\u001b[43m \u001b[49m\u001b[43mword\u001b[49m\u001b[43m \u001b[49m\u001b[38;5;129;43;01mnot\u001b[39;49;00m\u001b[43m \u001b[49m\u001b[38;5;129;43;01min\u001b[39;49;00m\u001b[43m \u001b[49m\u001b[43mstop_words\u001b[49m\u001b[43m]\u001b[49m)]\n",
      "File \u001b[0;32m~/Desktop/IA-project/.venv/lib/python3.11/site-packages/data_preparation/embedding/general_embedding.py:21\u001b[0m, in \u001b[0;36m<listcomp>\u001b[0;34m(.0)\u001b[0m\n\u001b[1;32m     20\u001b[0m \u001b[38;5;28;01mdef\u001b[39;00m \u001b[38;5;21mremove_stopwords\u001b[39m(text):\n\u001b[0;32m---> 21\u001b[0m     \u001b[38;5;28;01mreturn\u001b[39;00m [\u001b[38;5;124m'\u001b[39m\u001b[38;5;124m \u001b[39m\u001b[38;5;124m'\u001b[39m\u001b[38;5;241m.\u001b[39mjoin([word \u001b[38;5;28;01mfor\u001b[39;00m word \u001b[38;5;129;01min\u001b[39;00m text\u001b[38;5;241m.\u001b[39msplit() \u001b[38;5;28;01mif\u001b[39;00m word \u001b[38;5;129;01mnot\u001b[39;00m \u001b[38;5;129;01min\u001b[39;00m \u001b[43mstop_words\u001b[49m])]\n",
      "\u001b[0;31mNameError\u001b[0m: name 'stop_words' is not defined"
     ]
    }
   ],
   "source": [
    "print('text de depart')\n",
    "text = \"hello Dr banks bought a chair for\"\n",
    "print(text)\n",
    "print ('text nettoyé')\n",
    "print(remove_stopwords(text))"
   ]
  },
  {
   "cell_type": "code",
   "execution_count": 5,
   "metadata": {},
   "outputs": [
    {
     "name": "stdout",
     "output_type": "stream",
     "text": [
      "well timed tweet bien pour just and will be listening on my way\n"
     ]
    }
   ],
   "source": [
    "text = '@SouthwestAir @Imaginedragons @beatsmusic a b well timed  y tweet et bien  h pour que ça, paris a été une joyeuse ville, just boarded and will be listening on my way home!, :)'\n",
    "a = remove_single_lettre(text)\n",
    "b = english_only(a)\n",
    "print(b)"
   ]
  },
  {
   "cell_type": "code",
   "execution_count": 23,
   "metadata": {},
   "outputs": [
    {
     "name": "stdout",
     "output_type": "stream",
     "text": [
      "Text with emojis: I love 🐍 and 🐼!\n",
      "Text without emojis: I love snake and panda!\n"
     ]
    }
   ],
   "source": [
    "# Example usage:\n",
    "text_with_emojis = \"I love 🐍 and 🐼!\"\n",
    "text_without_emojis = remove_emoji(text_with_emojis)\n",
    "print(\"Text with emojis:\", text_with_emojis)\n",
    "print(\"Text without emojis:\", text_without_emojis)"
   ]
  },
  {
   "cell_type": "code",
   "execution_count": 24,
   "metadata": {},
   "outputs": [
    {
     "data": {
      "text/plain": [
       "'@ladymaryann not yet  ive been waiting for hours and hours by my computer  emoticon_clindoeil   emoticon_joyeux   emoticon_rire '"
      ]
     },
     "execution_count": 24,
     "metadata": {},
     "output_type": "execute_result"
    }
   ],
   "source": [
    "test = '@ladymaryann not yet  ive been waiting for hours and hours by my computer ;) :) :D'\n",
    "remp_emoticon(test)"
   ]
  },
  {
   "cell_type": "code",
   "execution_count": 25,
   "metadata": {},
   "outputs": [
    {
     "data": {
      "text/plain": [
       "'me ti ame @ladymaryann not yet  i have been can not waiting for hours and hours by am y computer ;)'"
      ]
     },
     "execution_count": 25,
     "metadata": {},
     "output_type": "execute_result"
    }
   ],
   "source": [
    "test = \"me time @ladymaryann not yet  ive been can't waiting for hours and hours by my computer ;)\"\n",
    "remp_abreviation(test)"
   ]
  },
  {
   "cell_type": "markdown",
   "metadata": {},
   "source": [
    "### Applying cleaning functions for data"
   ]
  },
  {
   "cell_type": "code",
   "execution_count": 18,
   "metadata": {},
   "outputs": [],
   "source": [
    "# keep engish words only \n",
    "data[\"text\"] =data[\"text\"].apply(english_only)"
   ]
  },
  {
   "cell_type": "code",
   "execution_count": 19,
   "metadata": {},
   "outputs": [],
   "source": [
    "# replace emoticons\n",
    "data[\"text\"] =data[\"text\"].apply(remp_emoticon)"
   ]
  },
  {
   "cell_type": "code",
   "execution_count": 20,
   "metadata": {},
   "outputs": [],
   "source": [
    "#replace abreviations \n",
    "data[\"text\"] =data[\"text\"].apply(remp_abreviation)"
   ]
  },
  {
   "cell_type": "code",
   "execution_count": 21,
   "metadata": {},
   "outputs": [],
   "source": [
    "#replace emoji with theire signification\n",
    "data[\"text\"] =data[\"text\"].apply(remove_emoji) "
   ]
  },
  {
   "cell_type": "code",
   "execution_count": 22,
   "metadata": {},
   "outputs": [],
   "source": [
    "#data general cleaning\n",
    "data[\"text\"] =data[\"text\"].apply(wordopt) "
   ]
  },
  {
   "cell_type": "code",
   "execution_count": 23,
   "metadata": {},
   "outputs": [],
   "source": [
    "#data remove single lettre \n",
    "data[\"text\"] =data[\"text\"].apply(remove_single_lettre) "
   ]
  },
  {
   "cell_type": "code",
   "execution_count": 24,
   "metadata": {},
   "outputs": [
    {
     "data": {
      "text/html": [
       "<div>\n",
       "<style scoped>\n",
       "    .dataframe tbody tr th:only-of-type {\n",
       "        vertical-align: middle;\n",
       "    }\n",
       "\n",
       "    .dataframe tbody tr th {\n",
       "        vertical-align: top;\n",
       "    }\n",
       "\n",
       "    .dataframe thead th {\n",
       "        text-align: right;\n",
       "    }\n",
       "</style>\n",
       "<table border=\"1\" class=\"dataframe\">\n",
       "  <thead>\n",
       "    <tr style=\"text-align: right;\">\n",
       "      <th></th>\n",
       "      <th>text</th>\n",
       "      <th>class</th>\n",
       "    </tr>\n",
       "  </thead>\n",
       "  <tbody>\n",
       "    <tr>\n",
       "      <th>0</th>\n",
       "      <td>trump wish happy new year leave gi shout dishonest fake news former reality show star one job country rapidly want wish even dishonest fake news happy healthy new president angry pant great year country rapidly want wish even dishonest fake news happy healthy new great year trump tweet went kind president new year greeting like infantile lack decency even allow hi rise gutter long enough wish happy new bishop swan one ampeachment would ake great year also accept control hear include people hate hate alan word new say happy new trump new year eve tweet new year fought lost badly know trump nothing new directed new year anni haversary dale holiday clearly long work hallmark becoming steven always like difference last filter breaking apart term year old people hole thinking would change got en change year</td>\n",
       "      <td>0</td>\n",
       "    </tr>\n",
       "    <tr>\n",
       "      <th>1</th>\n",
       "      <td>house intelligence committee chairman going bad like russia investigation department justice order protect dossier according new york trump campaign adviser drunk wine bar revealed knowledge opposition research top boy administration uch none damning drunken fool wine coffee help arrange new york eeting trump president two known former aide set world team trump ran hi erely coffee ay revealed diplomat downer shopping around possible dirt presidential nominee exactly uch said night kensington wine report two democratic information according four current former foreign direct knowledge guilty lying witness special counsel badly reality win</td>\n",
       "      <td>0</td>\n",
       "    </tr>\n",
       "    <tr>\n",
       "      <th>2</th>\n",
       "      <td>revealed former sheriff considered homeland security secretary trump scandal brief plane fellow passenger dan later police reason except aybe police stop black search warrant executed see calling fake news even though search warrant uninti amidated edia smear discredit fake news designed silence former sheriff continue poke eye sharp stick bitch slap scum til get better people uninti amidated edia smear discredit fake news designed silence continue poke eye sharp stick bitch slap scum til get better people stop lying edia fake news smear antidote go right punch nose ake taste nothing bully like lying edia attention better gi taste blood hi local newspaper search warrant chose file ti ame ean especially continue decision charge search warrant hope rest village people kirk baked ammigration pendulum swinger police stand someone ade fun hat asterful seem never tire think steely resolve one visible eye people think tough guy fake break trying earn still relevant sure drink lot water prison black thirst county jail cell victi thought point repeated spencer</td>\n",
       "      <td>0</td>\n",
       "    </tr>\n",
       "    <tr>\n",
       "      <th>3</th>\n",
       "      <td>trump would back work following fourth day former reality show star blasted former president golf trump track outpace number golf predecessor tracker trump trump golf today pas total next bump post reporter discovered trump really everything administration bizarre reference unlike working fix problem golf done spent several day row golf serve following essage event internal server snippet code footer also noted weird code clear would ever actually reference golf error essage removed trump also fixed still clear would actually since actual presumably page different essage someone either trump sensiti enough trump golf problem ake issue go away quickly people idea uch love see exchange led code best part operator bit code never get look always nobody trump name even golf joe</td>\n",
       "      <td>0</td>\n",
       "    </tr>\n",
       "    <tr>\n",
       "      <th>4</th>\n",
       "      <td>pope used annual day essage rebuke trump without even pope essage day united condemned trump ove recognize capital pontiff peaceful coexistence two within utually agreed internationally see iddle east continue suffer growing festi let ask lord peace holy let pray resume dialogue ay prevail solution finally pope went plead acceptance forced issue trump fight used place inn war blowing world outdated odel development produce societal environmental focus sign child recognize hi little especially like place well pain hard place lay one ay heart closed pope said ary find safe place stay leave comfortable easy journey young couple full hope emoticonlangue ectation child yet weighed attend leave home hidden said see entire forced set see illions choose go dri leave behind dear amen</td>\n",
       "      <td>0</td>\n",
       "    </tr>\n",
       "  </tbody>\n",
       "</table>\n",
       "</div>"
      ],
      "text/plain": [
       "                                                                                                                                                                                                                                                                                                                                                                                                                                                                                                                                                                                                                                                                                                                                                                                                                                                                                                                                                                                                                                                                                                          text  \\\n",
       "0                                                                                                                                                                                                                                                                trump wish happy new year leave gi shout dishonest fake news former reality show star one job country rapidly want wish even dishonest fake news happy healthy new president angry pant great year country rapidly want wish even dishonest fake news happy healthy new great year trump tweet went kind president new year greeting like infantile lack decency even allow hi rise gutter long enough wish happy new bishop swan one ampeachment would ake great year also accept control hear include people hate hate alan word new say happy new trump new year eve tweet new year fought lost badly know trump nothing new directed new year anni haversary dale holiday clearly long work hallmark becoming steven always like difference last filter breaking apart term year old people hole thinking would change got en change year   \n",
       "1                                                                                                                                                                                                                                                                                                                                                                                                                                        house intelligence committee chairman going bad like russia investigation department justice order protect dossier according new york trump campaign adviser drunk wine bar revealed knowledge opposition research top boy administration uch none damning drunken fool wine coffee help arrange new york eeting trump president two known former aide set world team trump ran hi erely coffee ay revealed diplomat downer shopping around possible dirt presidential nominee exactly uch said night kensington wine report two democratic information according four current former foreign direct knowledge guilty lying witness special counsel badly reality win   \n",
       "2  revealed former sheriff considered homeland security secretary trump scandal brief plane fellow passenger dan later police reason except aybe police stop black search warrant executed see calling fake news even though search warrant uninti amidated edia smear discredit fake news designed silence former sheriff continue poke eye sharp stick bitch slap scum til get better people uninti amidated edia smear discredit fake news designed silence continue poke eye sharp stick bitch slap scum til get better people stop lying edia fake news smear antidote go right punch nose ake taste nothing bully like lying edia attention better gi taste blood hi local newspaper search warrant chose file ti ame ean especially continue decision charge search warrant hope rest village people kirk baked ammigration pendulum swinger police stand someone ade fun hat asterful seem never tire think steely resolve one visible eye people think tough guy fake break trying earn still relevant sure drink lot water prison black thirst county jail cell victi thought point repeated spencer   \n",
       "3                                                                                                                                                                                                                                                                                              trump would back work following fourth day former reality show star blasted former president golf trump track outpace number golf predecessor tracker trump trump golf today pas total next bump post reporter discovered trump really everything administration bizarre reference unlike working fix problem golf done spent several day row golf serve following essage event internal server snippet code footer also noted weird code clear would ever actually reference golf error essage removed trump also fixed still clear would actually since actual presumably page different essage someone either trump sensiti enough trump golf problem ake issue go away quickly people idea uch love see exchange led code best part operator bit code never get look always nobody trump name even golf joe   \n",
       "4                                                                                                                                                                                                                                                                                            pope used annual day essage rebuke trump without even pope essage day united condemned trump ove recognize capital pontiff peaceful coexistence two within utually agreed internationally see iddle east continue suffer growing festi let ask lord peace holy let pray resume dialogue ay prevail solution finally pope went plead acceptance forced issue trump fight used place inn war blowing world outdated odel development produce societal environmental focus sign child recognize hi little especially like place well pain hard place lay one ay heart closed pope said ary find safe place stay leave comfortable easy journey young couple full hope emoticonlangue ectation child yet weighed attend leave home hidden said see entire forced set see illions choose go dri leave behind dear amen   \n",
       "\n",
       "   class  \n",
       "0      0  \n",
       "1      0  \n",
       "2      0  \n",
       "3      0  \n",
       "4      0  "
      ]
     },
     "execution_count": 24,
     "metadata": {},
     "output_type": "execute_result"
    }
   ],
   "source": [
    "data.head()"
   ]
  },
  {
   "cell_type": "markdown",
   "metadata": {},
   "source": [
    "## cleaning data step\n"
   ]
  },
  {
   "cell_type": "code",
   "execution_count": 25,
   "metadata": {},
   "outputs": [
    {
     "data": {
      "text/plain": [
       "(text     0\n",
       " class    0\n",
       " dtype: int64,\n",
       " 6389)"
      ]
     },
     "execution_count": 25,
     "metadata": {},
     "output_type": "execute_result"
    }
   ],
   "source": [
    "data.isnull().sum() , data.duplicated().sum()"
   ]
  },
  {
   "cell_type": "code",
   "execution_count": 26,
   "metadata": {},
   "outputs": [],
   "source": [
    "data.dropna(axis=0 , inplace=True)\n",
    "data.drop_duplicates(inplace =True)"
   ]
  },
  {
   "cell_type": "code",
   "execution_count": 27,
   "metadata": {},
   "outputs": [
    {
     "data": {
      "text/plain": [
       "(text     0\n",
       " class    0\n",
       " dtype: int64,\n",
       " 0)"
      ]
     },
     "execution_count": 27,
     "metadata": {},
     "output_type": "execute_result"
    }
   ],
   "source": [
    "data.isnull().sum() , data.duplicated().sum()"
   ]
  },
  {
   "cell_type": "code",
   "execution_count": 28,
   "metadata": {},
   "outputs": [],
   "source": [
    "export_folder = '/Users/soufianebelhabibe/Desktop/IA-project/data/data.csv'\n",
    "data.to_csv(export_folder, index=False)"
   ]
  },
  {
   "cell_type": "markdown",
   "metadata": {},
   "source": [
    "### `tf-idf vectorizer`"
   ]
  },
  {
   "cell_type": "code",
   "execution_count": 30,
   "metadata": {},
   "outputs": [],
   "source": [
    "from sklearn.feature_extraction.text import TfidfVectorizer\n",
    "\n",
    "vect = TfidfVectorizer()\n",
    "X = vect.fit_transform(data[\"text\"])"
   ]
  },
  {
   "cell_type": "code",
   "execution_count": 31,
   "metadata": {},
   "outputs": [
    {
     "data": {
      "text/plain": [
       "array(['aa', 'aardvark', 'aba', ..., 'zorro', 'zucchini', 'zygote'],\n",
       "      dtype=object)"
      ]
     },
     "execution_count": 31,
     "metadata": {},
     "output_type": "execute_result"
    }
   ],
   "source": [
    "vect.get_feature_names_out()"
   ]
  },
  {
   "cell_type": "code",
   "execution_count": 32,
   "metadata": {},
   "outputs": [
    {
     "name": "stdout",
     "output_type": "stream",
     "text": [
      "  (0, 7710)\t0.051722013030729534\n",
      "  (0, 9933)\t0.04493734122973283\n",
      "  (0, 4057)\t0.09447019600193686\n",
      "  (0, 21517)\t0.0668239070811313\n",
      "  (0, 10816)\t0.08792615180143337\n",
      "  (0, 14301)\t0.057054361711719286\n",
      "  (0, 21383)\t0.058345554694132475\n",
      "  (0, 1463)\t0.07462235795410638\n",
      "  (0, 3250)\t0.06915002199142774\n",
      "  (0, 8786)\t0.11267677497212748\n",
      "  (0, 12891)\t0.028986060961757418\n",
      "  (0, 6500)\t0.07219496758492525\n",
      "  (0, 764)\t0.05243124890829761\n",
      "  (0, 20378)\t0.07347025229058274\n",
      "  (0, 2524)\t0.06058032800695816\n",
      "  (0, 10302)\t0.10463993524683951\n",
      "  (0, 24342)\t0.0393001657717402\n",
      "  (0, 4408)\t0.05540644439454998\n",
      "  (0, 10818)\t0.07877230419891625\n",
      "  (0, 5824)\t0.10788737585875928\n",
      "  (0, 10483)\t0.08200697966428595\n",
      "  (0, 1342)\t0.08200697966428595\n",
      "  (0, 6565)\t0.07034270228177661\n",
      "  (0, 14025)\t0.0474129888522924\n",
      "  (0, 12726)\t0.0386432219155986\n",
      "  :\t:\n",
      "  (38508, 14973)\t0.26313238655640253\n",
      "  (38508, 5738)\t0.08867643805065338\n",
      "  (38508, 19820)\t0.08933724041076894\n",
      "  (38508, 1024)\t0.06868388874915142\n",
      "  (38508, 5914)\t0.07252826437589788\n",
      "  (38508, 20281)\t0.06700030090395212\n",
      "  (38508, 2753)\t0.0808469429010771\n",
      "  (38508, 15231)\t0.07867752846004678\n",
      "  (38508, 11286)\t0.13133180744811251\n",
      "  (38508, 5771)\t0.08414346053180537\n",
      "  (38508, 4761)\t0.08580917918011824\n",
      "  (38508, 20274)\t0.09789456454397674\n",
      "  (38508, 9123)\t0.07942289517872578\n",
      "  (38508, 5361)\t0.045644415154828685\n",
      "  (38508, 7681)\t0.04943209604411372\n",
      "  (38508, 8267)\t0.0972233604888496\n",
      "  (38508, 20400)\t0.060384780735420425\n",
      "  (38508, 22155)\t0.13986929601362183\n",
      "  (38508, 18354)\t0.08825112053084117\n",
      "  (38508, 22279)\t0.09680633113773789\n",
      "  (38508, 18284)\t0.22066132787067447\n",
      "  (38508, 11404)\t0.0832782918009643\n",
      "  (38508, 740)\t0.04018399894595618\n",
      "  (38508, 5397)\t0.05800740344862618\n",
      "  (38508, 13820)\t0.04405198984958787\n"
     ]
    }
   ],
   "source": [
    "print(X)"
   ]
  },
  {
   "cell_type": "markdown",
   "metadata": {},
   "source": [
    "### `Word2vec`"
   ]
  },
  {
   "cell_type": "code",
   "execution_count": 44,
   "metadata": {},
   "outputs": [],
   "source": [
    "def preprocess_text(text):\n",
    "    tokens = text.split()  # Tokenization\n",
    "    tokens = [token for token in tokens if token not in stop_words]  # Suppression des mots vides\n",
    "    return tokens"
   ]
  },
  {
   "cell_type": "code",
   "execution_count": 45,
   "metadata": {},
   "outputs": [
    {
     "data": {
      "text/plain": [
       "0                                                                                                                                                            [trump, wish, happy, new, year, leave, give, shout, dishonest, fake, news, former, reality, show, star, one, job, country, rapidly, want, wish, even, dishonest, fake, news, happy, healthy, new, president, angry, pant, great, year, country, rapidly, want, wish, even, dishonest, fake, news, happy, healthy, new, great, year, trump, tweet, went, kind, president, new, year, greeting, like, infantile, lack, decency, even, allow, rise, gutter, long, enough, wish, happy, new, bishop, swan, one, impeachment, would, make, great, year, also, accept, control, hear, include, many, people, hate, hate, alan, word, new, say, happy, new, trump, new, year, eve, tweet, new, year, many, fought, lost, ...]\n",
       "1                                                                                                          [house, intelligence, committee, chairman, going, bad, like, many, russia, investigation, department, justice, order, protect, dossier, according, new, york, trump, campaign, adviser, drunk, wine, bar, revealed, knowledge, opposition, research, top, boy, administration, much, none, damning, drunken, fool, wine, coffee, help, arrange, new, york, meeting, trump, president, two, known, former, aide, set, world, team, trump, ran, merely, coffee, may, revealed, diplomat, downer, shopping, around, possible, dirt, presidential, nominee, exactly, much, said, night, kensington, wine, report, two, democratic, information, according, four, current, former, foreign, direct, knowledge, guilty, lying, witness, special, counsel, badly, reality, win]\n",
       "2                                                                            [revealed, former, sheriff, considered, homeland, security, secretary, trump, scandal, brief, plane, fellow, passenger, dan, later, police, reason, except, maybe, police, stop, black, search, warrant, executed, see, calling, fake, news, even, though, search, warrant, unintimidated, medium, smear, discredit, fake, news, designed, silence, former, sheriff, continue, poke, eye, sharp, stick, bitch, slap, scum, til, get, better, people, unintimidated, medium, smear, discredit, fake, news, designed, silence, continue, poke, eye, sharp, stick, bitch, slap, scum, til, get, better, people, stop, lying, medium, fake, news, smear, antidote, go, right, punch, nose, make, taste, nothing, bully, like, lying, medium, attention, better, give, taste, blood, local, newspaper, ...]\n",
       "3                                                                    [trump, would, back, work, following, fourth, day, former, reality, show, star, blasted, former, president, golf, trump, track, outpace, number, golf, predecessor, tracker, trump, trump, golf, today, pas, total, next, bump, post, reporter, discovered, trump, really, everything, administration, bizarre, reference, unlike, working, fix, problem, golf, done, spent, several, day, row, golf, serve, following, message, event, internal, server, snippet, code, footer, also, noted, weird, code, clear, would, ever, actually, reference, golf, error, message, removed, trump, also, fixed, still, clear, would, actually, since, actual, presumably, page, different, message, someone, either, trump, sensitive, enough, trump, golf, problem, make, issue, go, away, quickly, people, idea, ...]\n",
       "4                                                                                             [pope, used, annual, day, message, rebuke, trump, without, even, pope, message, day, united, condemned, trump, move, recognize, capital, pontiff, peaceful, coexistence, two, within, mutually, agreed, internationally, see, middle, east, continue, suffer, growing, festive, let, u, ask, lord, peace, holy, let, u, pray, resume, dialogue, may, prevail, solution, finally, pope, went, plead, acceptance, forced, issue, trump, fight, used, place, inn, war, blowing, world, outdated, model, development, produce, societal, environmental, u, focus, sign, child, recognize, little, especially, like, place, well, pain, hard, place, lay, one, may, heart, closed, pope, said, mary, find, safe, place, stay, leave, comfortable, easy, journey, young, couple, full, ...]\n",
       "                                                                                                                                                                                                                                                                                                                                                                                                                                            ...                                                                                                                                                                                                                                                                                                                                                                                                                                    \n",
       "21412    [ally, president, trump, decision, commit, part, new, strategy, said, would, require, run, white, house, last, year, pledge, withdraw, trump, reversed, course, military, campaign, fight, win, said, send, add, roughly, speech, define, successfully, ending, war, invasion, acknowledged, extraordinary, sacrifice, blood, treasure, ask, ally, global, support, new, additional, line, confident, trump, comment, would, increase, pressure, already, repeated, step, description, alliance, obsolete, even, since, taking, said, longer, secretary, general, said, remains, fully, looking, forward, way, ahead, secretary, ally, international, leading, commitment, welcome, call, secretary, yesterday, agreed, despite, stay, course, help, build, fragile, democracy, reduce, terrorist, threat, defence, secretary, borne, brunt, trump, criticism, scale, ...]\n",
       "21413                                                                                                                                                                                                                                                                                                                                                                                                                                                                                                                                                      [provider, regulatory, business, said, withdrawn, two, market, march, year, remove, issue, academic, freedom, china, hit, week, leading, academic, university, said, request, block, access, scholarly, later, reversed, year, business, insight, china, remove, content, said, march, company, two, information, group]\n",
       "21414                                                                                                                         [shadow, street, lined, eclectic, art, yoga, become, vigilant, place, like, said, work, popular, bar, street, government, president, past, last, dictator, little, tolerance, powerful, police, force, feared, state, security, keep, police, rare, partly, due, location, peninsula, bend, river, first, restaurant, came, among, fashionable, quarter, growing, popularity, subsidiary, lender, big, year, bank, part, factory, turn, restaurant, theater, sector, entirely, abandoned, one, factory, revolution, still, financial, lease, sell, firm, still, production, reduced, worked, factory, said, influx, new, street, come, back, future, ultimately, good, cultural, analyst, tolerate, say, someone, turn, tomorrow, say, decided, tear]\n",
       "21415                                                                                                                                                                                                                                                                                                 [secretary, state, cardinal, said, positive, momentum, behind, idea, pope, visiting, work, done, speaking, joint, news, conference, alongside, foreign, minister, give, date, possible, eastern, western, split, apart, leader, world, billion, seeking, improve, last, year, first, ever, meeting, catholic, pope, orthodox, said, also, used, capital, also, raise, certain, faced, catholic, church, said, disagreed, plight, certain, due, later, meet, patriarch, head, orthodox, said, also, russia, could, play, important, role, came, helping, solve, crisis, close]\n",
       "21416                                                                                                                                                                                                                                           [buy, fighter, worth, billion, russia, exchange, cash, two, cabinet, said, southeast, country, ship, million, worth, addition, cash, pay, fighter, starting, two, trade, minister, said, joint, statement, defence, minister, type, volume, still, previously, said, could, include, palm, deal, soon, state, trading, company, state, conglomerate, russia, currently, facing, new, round, trade, southeast, economy, trying, promote, palm, oil, amid, cut, consumption, union, also, trying, modernize, air, force, string, military, aviation, million, trade, surplus, russia, expand, bilateral, technology, aviation, among]\n",
       "Name: text, Length: 38509, dtype: object"
      ]
     },
     "execution_count": 45,
     "metadata": {},
     "output_type": "execute_result"
    }
   ],
   "source": [
    "df1 = data[\"text\"]\n",
    "tokenized_tweets = df1.apply(preprocess_text)\n",
    "tokenized_tweets\n"
   ]
  },
  {
   "cell_type": "code",
   "execution_count": null,
   "metadata": {},
   "outputs": [],
   "source": [
    "from gensim.models import Word2Vec"
   ]
  },
  {
   "cell_type": "code",
   "execution_count": null,
   "metadata": {},
   "outputs": [],
   "source": [
    "\n",
    "size=10\n",
    "model_w2v = Word2Vec(\n",
    "            tokenized_tweets, #l'ensemble des tweet\n",
    "            window=5, # context window size\n",
    "            vector_size=size,  #La taille de sortie\n",
    "            min_count=2, # Ignores all words with total frequency lower than 2.\n",
    "            sg = 0) #on utilise la methode CBOW\n",
    "\n",
    "model_w2v.train(tokenized_tweets, total_examples= len(data), epochs=20)\n",
    "\n",
    "#etape5 je stocke mes resultats en dataframe\n",
    "words=list(model_w2v.wv.key_to_index)\n",
    "data_emb1=pd.DataFrame(model_w2v.wv[list(model_w2v.wv.key_to_index)],index=words)\n",
    "\n",
    "data_emb1.head() , data_emb1.shape"
   ]
  },
  {
   "cell_type": "markdown",
   "metadata": {},
   "source": [
    "### `Bert Google`"
   ]
  },
  {
   "cell_type": "markdown",
   "metadata": {},
   "source": [
    "## Splitting and training Tf-idf result"
   ]
  },
  {
   "cell_type": "code",
   "execution_count": 33,
   "metadata": {},
   "outputs": [],
   "source": [
    "X_train, X_test, y_train, y_test = train_test_split(X, data[\"class\"], test_size=0.2, shuffle=True)"
   ]
  },
  {
   "cell_type": "code",
   "execution_count": 34,
   "metadata": {},
   "outputs": [
    {
     "name": "stdout",
     "output_type": "stream",
     "text": [
      "X_train shape :(30807, 24586)\n",
      "X_test  shape :(7702, 24586)\n",
      "y_train shape :(30807,)\n",
      "y_test shape : (7702,)\n"
     ]
    }
   ],
   "source": [
    "print(f\"X_train shape :{X_train.shape}\")\n",
    "print(f\"X_test  shape :{X_test.shape}\")\n",
    "print(f\"y_train shape :{y_train.shape}\")\n",
    "print(f\"y_test shape : {y_test.shape}\")"
   ]
  },
  {
   "cell_type": "markdown",
   "metadata": {},
   "source": [
    "### KNN"
   ]
  },
  {
   "cell_type": "code",
   "execution_count": 35,
   "metadata": {},
   "outputs": [],
   "source": [
    "knn = KNeighborsClassifier()\n",
    "model_ = knn.fit(X_train, y_train)"
   ]
  },
  {
   "cell_type": "code",
   "execution_count": 36,
   "metadata": {},
   "outputs": [],
   "source": [
    "y_pred = model_.predict(X_test)"
   ]
  },
  {
   "cell_type": "code",
   "execution_count": 37,
   "metadata": {},
   "outputs": [
    {
     "name": "stdout",
     "output_type": "stream",
     "text": [
      "Accuracy: 0.8553622435730979\n",
      "Precision: 0.8553622435730979\n",
      "Recall: 0.8553622435730979\n",
      "F1 Score: 0.8553622435730979\n",
      "              precision    recall  f1-score   support\n",
      "\n",
      "           0       0.90      0.76      0.83      3469\n",
      "           1       0.83      0.93      0.88      4233\n",
      "\n",
      "    accuracy                           0.86      7702\n",
      "   macro avg       0.86      0.85      0.85      7702\n",
      "weighted avg       0.86      0.86      0.85      7702\n",
      "\n"
     ]
    }
   ],
   "source": [
    "accuracy = accuracy_score(y_test, y_pred)\n",
    "precision = precision_score(y_test, y_pred,average='micro')\n",
    "recall = recall_score(y_test, y_pred, average='micro')\n",
    "f1 = f1_score(y_test, y_pred,average='micro')\n",
    "\n",
    "print(\"Accuracy:\", accuracy)\n",
    "print(\"Precision:\", precision)\n",
    "print(\"Recall:\", recall)\n",
    "print(\"F1 Score:\", f1)\n",
    "print(classification_report(y_test, y_pred))"
   ]
  },
  {
   "cell_type": "markdown",
   "metadata": {},
   "source": [
    "### RandomForest"
   ]
  },
  {
   "cell_type": "code",
   "execution_count": 39,
   "metadata": {},
   "outputs": [],
   "source": [
    "\n",
    "\n",
    "clf = RandomForestClassifier(n_estimators=100, max_depth=5)\n",
    "model_clf =clf.fit(X_train, y_train)"
   ]
  },
  {
   "cell_type": "code",
   "execution_count": 43,
   "metadata": {},
   "outputs": [
    {
     "name": "stdout",
     "output_type": "stream",
     "text": [
      "Accuracy: 0.8254998701635938\n",
      "Precision: 0.8254998701635938\n",
      "Recall: 0.8254998701635938\n",
      "F1 Score: 0.8254998701635938\n",
      "              precision    recall  f1-score   support\n",
      "\n",
      "           0       0.99      0.62      0.76      3469\n",
      "           1       0.76      0.99      0.86      4233\n",
      "\n",
      "    accuracy                           0.83      7702\n",
      "   macro avg       0.88      0.81      0.81      7702\n",
      "weighted avg       0.86      0.83      0.82      7702\n",
      "\n"
     ]
    }
   ],
   "source": [
    "y_pred = model_clf.predict(X_test)\n",
    "accuracy = accuracy_score(y_test, y_pred)\n",
    "precision = precision_score(y_test, y_pred,average='micro')\n",
    "recall = recall_score(y_test, y_pred, average='micro')\n",
    "f1 = f1_score(y_test, y_pred,average='micro')\n",
    "\n",
    "print(\"Accuracy:\", accuracy)\n",
    "print(\"Precision:\", precision)\n",
    "print(\"Recall:\", recall)\n",
    "print(\"F1 Score:\", f1)\n",
    "print(classification_report(y_test, y_pred))"
   ]
  },
  {
   "cell_type": "code",
   "execution_count": 44,
   "metadata": {},
   "outputs": [
    {
     "name": "stdout",
     "output_type": "stream",
     "text": [
      "[[2147 1322]\n",
      " [  22 4211]]\n"
     ]
    },
    {
     "data": {
      "image/png": "[encoded data removed]",
      "text/plain": [
       "<Figure size 640x480 with 2 Axes>"
      ]
     },
     "metadata": {},
     "output_type": "display_data"
    }
   ],
   "source": [
    "from sklearn.metrics import ConfusionMatrixDisplay, confusion_matrix\n",
    "\n",
    "cm = confusion_matrix(y_test, y_pred, labels=model_clf.classes_) \n",
    "print(cm)\n",
    "disp = ConfusionMatrixDisplay(cm, display_labels=model_clf.classes_)\n",
    "disp.plot()\n",
    "plt.show()"
   ]
  },
  {
   "cell_type": "markdown",
   "metadata": {},
   "source": [
    "- Vrai positif (True Positive, TP) : Il s'agit du nombre de prédictions positives correctes. Dans votre cas, il y a 4280 vrais positifs. Cela signifie que 4280 échantillons ont été correctement classés comme positifs (fake_news).\n",
    "- Faux positif (False Positive, FP) : Il s'agit du nombre de prédictions positives incorrectes. Dans votre cas, il y a 1376 faux positifs. Cela signifie que 1376 échantillons ont été incorrectement classés comme positifs (fake_news), alors qu'ils étaient en fait négatifs (Not_fake_news).\n",
    "- Vrai négatif (True Negative, TN) : Il s'agit du nombre de prédictions négatives correctes. Dans votre cas, il y a 2022 vrais négatifs. Cela signifie que 2022 échantillons ont été correctement classés comme négatifs (Not_fake_news).\n",
    "- Faux négatif (False Negative, FN) : Il s'agit du nombre de prédictions négatives incorrectes. Dans votre cas, il y a 24 faux négatifs. Cela signifie que 24 échantillons ont été incorrectement classés comme négatifs (Not_fake_news), alors qu'ils étaient en fait positifs (fake_news)."
   ]
  },
  {
   "cell_type": "markdown",
   "metadata": {},
   "source": [
    "### GradientBoostingClassifier"
   ]
  },
  {
   "cell_type": "code",
   "execution_count": 45,
   "metadata": {},
   "outputs": [],
   "source": [
    "gbc = GradientBoostingClassifier(loss='log_loss', learning_rate=0.1, n_estimators=100)\n",
    "model_gbc = gbc.fit(X_train, y_train)"
   ]
  },
  {
   "cell_type": "code",
   "execution_count": 46,
   "metadata": {},
   "outputs": [
    {
     "name": "stdout",
     "output_type": "stream",
     "text": [
      "Accuracy: 0.9285899766294469\n",
      "Precision: 0.9285899766294469\n",
      "Recall: 0.9285899766294469\n",
      "F1 Score: 0.9285899766294469\n",
      "              precision    recall  f1-score   support\n",
      "\n",
      "           0       0.94      0.90      0.92      3469\n",
      "           1       0.92      0.95      0.94      4233\n",
      "\n",
      "    accuracy                           0.93      7702\n",
      "   macro avg       0.93      0.93      0.93      7702\n",
      "weighted avg       0.93      0.93      0.93      7702\n",
      "\n"
     ]
    },
    {
     "data": {
      "image/png": "[encoded data removed]",
      "text/plain": [
       "<Figure size 640x480 with 2 Axes>"
      ]
     },
     "metadata": {},
     "output_type": "display_data"
    }
   ],
   "source": [
    "y_pred = model_gbc.predict(X_test)\n",
    "accuracy = accuracy_score(y_test, y_pred)\n",
    "precision = precision_score(y_test, y_pred,average='micro')\n",
    "recall = recall_score(y_test, y_pred, average='micro')\n",
    "f1 = f1_score(y_test, y_pred,average='micro')\n",
    "\n",
    "print(\"Accuracy:\", accuracy)\n",
    "print(\"Precision:\", precision)\n",
    "print(\"Recall:\", recall)\n",
    "print(\"F1 Score:\", f1)\n",
    "print(classification_report(y_test, y_pred))\n",
    "\n",
    "cm = confusion_matrix(y_test, y_pred, labels=model_gbc.classes_) \n",
    "disp = ConfusionMatrixDisplay(cm, display_labels=model_gbc.classes_)\n",
    "disp.plot()\n",
    "plt.show()"
   ]
  },
  {
   "cell_type": "markdown",
   "metadata": {},
   "source": [
    "### `VotingClassifier`\n",
    "* [VotionClassifier documentation](https://scikit-learn.org/stable/modules/generated/sklearn.ensemble.VotingClassifier.html#sklearn.ensemble.VotingClassifier)"
   ]
  },
  {
   "cell_type": "code",
   "execution_count": 47,
   "metadata": {},
   "outputs": [],
   "source": [
    "eclf1 = VotingClassifier(estimators=[\n",
    "       ('Knn', knn), ('rf', clf), ('gbc', gbc)], voting='hard') \n",
    "eclf1 = eclf1.fit(X_train, y_train)"
   ]
  },
  {
   "cell_type": "code",
   "execution_count": 48,
   "metadata": {},
   "outputs": [
    {
     "name": "stdout",
     "output_type": "stream",
     "text": [
      "Accuracy: 0.90950402492859\n",
      "Precision: 0.90950402492859\n",
      "Recall: 0.90950402492859\n",
      "F1 Score: 0.90950402492859\n",
      "              precision    recall  f1-score   support\n",
      "\n",
      "           0       0.98      0.82      0.89      3469\n",
      "           1       0.87      0.99      0.92      4233\n",
      "\n",
      "    accuracy                           0.91      7702\n",
      "   macro avg       0.92      0.90      0.91      7702\n",
      "weighted avg       0.92      0.91      0.91      7702\n",
      "\n"
     ]
    },
    {
     "data": {
      "image/png": "[encoded data removed]",
      "text/plain": [
       "<Figure size 640x480 with 2 Axes>"
      ]
     },
     "metadata": {},
     "output_type": "display_data"
    }
   ],
   "source": [
    "y_pred = eclf1.predict(X_test)\n",
    "accuracy = accuracy_score(y_test, y_pred)\n",
    "precision = precision_score(y_test, y_pred,average='micro')\n",
    "recall = recall_score(y_test, y_pred, average='micro')\n",
    "f1 = f1_score(y_test, y_pred,average='micro')\n",
    "\n",
    "print(\"Accuracy:\", accuracy)\n",
    "print(\"Precision:\", precision)\n",
    "print(\"Recall:\", recall)\n",
    "print(\"F1 Score:\", f1)\n",
    "print(classification_report(y_test, y_pred))\n",
    "\n",
    "cm = confusion_matrix(y_test, y_pred, labels=eclf1.classes_) \n",
    "disp = ConfusionMatrixDisplay(cm, display_labels=eclf1.classes_)\n",
    "disp.plot()\n",
    "plt.show()"
   ]
  },
  {
   "cell_type": "markdown",
   "metadata": {},
   "source": [
    "We have a very good result with GrdintBoosting algorithme so we are going to use this one in production for Tf-idf encoding  "
   ]
  },
  {
   "cell_type": "markdown",
   "metadata": {},
   "source": [
    "## Splitting and training Word2vec result"
   ]
  },
  {
   "cell_type": "code",
   "execution_count": null,
   "metadata": {},
   "outputs": [],
   "source": [
    "X_train, X_test, y_train, y_test = train_test_split(data_emb1, target, test_size=0.2, random_state=42)\n",
    "X_train, X_val, y_train, y_val = train_test_split(X_train, y_train, test_size=0.2, random_state=42)"
   ]
  },
  {
   "cell_type": "code",
   "execution_count": null,
   "metadata": {},
   "outputs": [],
   "source": [
    "from keras.models import Sequential\n",
    "from keras.layers import Embedding, Conv1D, GlobalMaxPooling1D, Dense\n",
    "\n",
    "# Créer le modèle CNN\n",
    "model = Sequential()\n",
    "\n",
    "# Ajouter une couche d'embedding\n",
    "model.add(Embedding(input_dim=len(words), output_dim=size))\n",
    "# Ajouter une couche de convolution avec activation ReLU\n",
    "model.add(Conv1D(128, 5, activation='relu'))\n",
    "\n",
    "# Ajouter une couche de pooling globale\n",
    "model.add(GlobalMaxPooling1D())\n",
    "\n",
    "# Ajouter une couche entièrement connectée avec activation ReLU\n",
    "model.add(Dense(128, activation='relu'))\n",
    "\n",
    "# Ajouter une couche de sortie avec activation sigmoïde pour la classification binaire\n",
    "model.add(Dense(1, activation='sigmoid'))\n",
    "\n",
    "# Compiler le modèle avec la fonction de perte et l'optimiseur appropriés\n",
    "model.compile(optimizer='adam', loss='binary_crossentropy', metrics=['accuracy'])\n",
    "\n",
    "# Afficher un résumé du modèle\n",
    "model.summary()\n",
    "\n",
    "# Entraîner le modèle\n",
    "model.fit(X_train, y_train, validation_data=(X_val, y_val), epochs=10, batch_size=32)\n",
    "\n",
    "# Évaluer le modèle sur l'ensemble de test\n",
    "loss, accuracy = model.evaluate(X_test, y_test)\n",
    "print(\"Test Accuracy:\", accuracy)\n"
   ]
  },
  {
   "cell_type": "markdown",
   "metadata": {},
   "source": [
    "## Model testig "
   ]
  },
  {
   "cell_type": "code",
   "execution_count": 82,
   "metadata": {},
   "outputs": [],
   "source": [
    "'''def output_lable(n):\n",
    "    if n == 0:\n",
    "        return \"Fake News\"\n",
    "    elif n == 1:\n",
    "        return \"Not A Fake News\"\n",
    "    \n",
    "def manual_testing(news):\n",
    "    testing_news = {\"text\":[news]}\n",
    "    new_def_test = pd.DataFrame(testing_news)\n",
    "    new_def_test[\"text\"] = new_def_test[\"text\"].apply(wordopt) \n",
    "    new_x_test = new_def_test[\"text\"]\n",
    "    new_xv_test = vect.transform(new_x_test)\n",
    "    #pred_LR = model.predict(new_xv_test)\n",
    "    pred_KNN = model_.predict(new_xv_test)\n",
    "    print(new_def_test.shape)\n",
    "\n",
    "    return print(\"KNN Prediction: {}\".format(output_lable(pred_KNN[0])))          '''                                                                                      "
   ]
  },
  {
   "cell_type": "code",
   "execution_count": null,
   "metadata": {},
   "outputs": [],
   "source": [
    "'''BRUSSELS (Reuters) - NATO allies on Tuesday welcomed President Donald Trump s decision to commit more forces to Afghanistan, as part of a new U.S. strategy he said would require more troops and funding from America s partners. Having run for the White House last year on a pledge to withdraw swiftly from Afghanistan, Trump reversed course on Monday and promised a stepped-up military campaign against  Taliban insurgents, saying:  Our troops will fight to win .  U.S. officials said he had signed off on plans to send about 4,000 more U.S. troops to add to the roughly 8,400 now deployed in Afghanistan. But his speech did not define benchmarks for successfully ending the war that began with the U.S.-led invasion of Afghanistan in 2001, and which he acknowledged had required an   extraordinary sacrifice of blood and treasure .  We will ask our NATO allies and global partners to support our new strategy, with additional troops and funding increases in line with our own. We are confident they will,  Trump said. That comment signaled he would further increase pressure on U.S. partners who have already been jolted by his repeated demands to step up their contributions to NATO and his description of the alliance as  obsolete  - even though, since taking office, he has said this is no longer the case. NATO Secretary General Jens Stoltenberg said in a statement:  NATO remains fully committed to Afghanistan and I am looking forward to discussing the way ahead with (Defense) Secretary (James) Mattis and our Allies and international partners.  NATO has 12,000 troops in Afghanistan, and 15 countries have pledged more, Stoltenberg said. Britain, a leading NATO member, called the U.S. commitment  very welcome .  In my call with Secretary Mattis yesterday we agreed that despite the challenges, we have to stay the course in Afghanistan to help build up its fragile democracy and reduce the terrorist threat to the West,  Defence Secretary Michael Fallon said. Germany, which has borne the brunt of Trump s criticism over  the scale of its defense spending, also welcomed the new U.S. plan.  Our continued commitment is necessary on the path to stabilizing the country,  a government spokeswoman said. In June, European allies had already pledged more troops but had not given details on numbers, waiting for the Trump administration to outline its strategy for the region.Nearly 16 years after the U.S.-led invasion - a response to the Sept. 11 attacks which were planned by al Qaeda leader Osama bin Laden from Afghanistan - the country is still struggling with weak central government and a Taliban insurgency. Trump said he shared the frustration of the American people who were  weary of war without victory , but a hasty withdrawal would create a vacuum for groups like Islamic State and al Qaeda to fill.\n",
    "'''"
   ]
  },
  {
   "cell_type": "code",
   "execution_count": null,
   "metadata": {},
   "outputs": [],
   "source": [
    "\n",
    "news = str(input())\n",
    "general_embedding.manual_testing(news)"
   ]
  },
  {
   "cell_type": "markdown",
   "metadata": {},
   "source": [
    "## Data exportation "
   ]
  },
  {
   "cell_type": "code",
   "execution_count": 49,
   "metadata": {},
   "outputs": [],
   "source": [
    "export_folder = \"/Users/soufianebelhabibe/Desktop/IA-project/data/model/model_gbc.pickle\""
   ]
  },
  {
   "cell_type": "code",
   "execution_count": 50,
   "metadata": {},
   "outputs": [],
   "source": [
    "import pickle\n",
    "with open(export_folder, 'wb') as f : \n",
    "    pickle.dump(model_gbc, f)"
   ]
  },
  {
   "cell_type": "code",
   "execution_count": 84,
   "metadata": {},
   "outputs": [],
   "source": [
    "export_folder = \"/Users/soufianebelhabibe/Desktop/IA-project/data/model/tfidf_vectorizer.pickle\"\n",
    "# Sauvegarder le vecteur TF-IDF dans un fichier pickle\n",
    "with open(export_folder, 'wb') as f:\n",
    "    pickle.dump(vect, f)\n"
   ]
  }
 ],
 "metadata": {
  "kernelspec": {
   "display_name": "Python 3 (ipykernel)",
   "language": "python",
   "name": "python3"
  },
  "language_info": {
   "codemirror_mode": {
    "name": "ipython",
    "version": 3
   },
   "file_extension": ".py",
   "mimetype": "text/x-python",
   "name": "python",
   "nbconvert_exporter": "python",
   "pygments_lexer": "ipython3",
   "version": "3.11.0"
  }
 },
 "nbformat": 4,
 "nbformat_minor": 2
}
